{
 "cells": [
  {
   "cell_type": "code",
   "execution_count": 1,
   "metadata": {},
   "outputs": [
    {
     "output_type": "stream",
     "name": "stdout",
     "text": [
      "Nama : Arda Nugraha\nNRP : 152017088\nAlgoritma Montecarlo\n"
     ]
    }
   ],
   "source": [
    "print(\"Nama : Arda Nugraha\")\n",
    "print(\"NRP : 152017088\")"
   ]
  },
  {
   "cell_type": "code",
   "execution_count": 2,
   "metadata": {},
   "outputs": [
    {
     "output_type": "execute_result",
     "data": {
      "text/plain": [
       "   Minggu Ke  Frekuensi\n",
       "0          0         20\n",
       "1          1         40\n",
       "2          2         20\n",
       "3          3         10\n",
       "4          4         10"
      ],
      "text/html": "<div>\n<style scoped>\n    .dataframe tbody tr th:only-of-type {\n        vertical-align: middle;\n    }\n\n    .dataframe tbody tr th {\n        vertical-align: top;\n    }\n\n    .dataframe thead th {\n        text-align: right;\n    }\n</style>\n<table border=\"1\" class=\"dataframe\">\n  <thead>\n    <tr style=\"text-align: right;\">\n      <th></th>\n      <th>Minggu Ke</th>\n      <th>Frekuensi</th>\n    </tr>\n  </thead>\n  <tbody>\n    <tr>\n      <th>0</th>\n      <td>0</td>\n      <td>20</td>\n    </tr>\n    <tr>\n      <th>1</th>\n      <td>1</td>\n      <td>40</td>\n    </tr>\n    <tr>\n      <th>2</th>\n      <td>2</td>\n      <td>20</td>\n    </tr>\n    <tr>\n      <th>3</th>\n      <td>3</td>\n      <td>10</td>\n    </tr>\n    <tr>\n      <th>4</th>\n      <td>4</td>\n      <td>10</td>\n    </tr>\n  </tbody>\n</table>\n</div>"
     },
     "metadata": {},
     "execution_count": 2
    }
   ],
   "source": [
    "import pandas as pd\n",
    "import numpy as np\n",
    "import random\n",
    "data = np.array([[0, 20], [1, 40], [2, 20], [3, 10], [4, 10]])\n",
    "pd.DataFrame(data, columns=[\"Minggu Ke\", \"Frekuensi\"])"
   ]
  },
  {
   "cell_type": "code",
   "execution_count": 3,
   "metadata": {},
   "outputs": [
    {
     "output_type": "stream",
     "name": "stdout",
     "text": [
      "ΣFrekuensi: 100\n"
     ]
    }
   ],
   "source": [
    "mingguke = data[:0]\n",
    "frekuensi = data[:,1]\n",
    "\n",
    "sigma_f = 0\n",
    "for i in range(len(frekuensi)):\n",
    "    sigma_f = sigma_f + frekuensi[i]\n",
    "\n",
    "print(\"ΣFrekuensi:\",sigma_f)"
   ]
  },
  {
   "cell_type": "code",
   "execution_count": 4,
   "metadata": {},
   "outputs": [
    {
     "output_type": "stream",
     "name": "stdout",
     "text": [
      "probabilitas minggu ke- 0 = 0.2\nprobabilitas minggu ke- 1 = 0.4\nprobabilitas minggu ke- 2 = 0.2\nprobabilitas minggu ke- 3 = 0.1\nprobabilitas minggu ke- 4 = 0.1\n"
     ]
    },
    {
     "output_type": "execute_result",
     "data": {
      "text/plain": [
       "   Minggu Ke  Frekuensi  Probabilitas\n",
       "0        0.0       20.0           0.2\n",
       "1        1.0       40.0           0.4\n",
       "2        2.0       20.0           0.2\n",
       "3        3.0       10.0           0.1\n",
       "4        4.0       10.0           0.1"
      ],
      "text/html": "<div>\n<style scoped>\n    .dataframe tbody tr th:only-of-type {\n        vertical-align: middle;\n    }\n\n    .dataframe tbody tr th {\n        vertical-align: top;\n    }\n\n    .dataframe thead th {\n        text-align: right;\n    }\n</style>\n<table border=\"1\" class=\"dataframe\">\n  <thead>\n    <tr style=\"text-align: right;\">\n      <th></th>\n      <th>Minggu Ke</th>\n      <th>Frekuensi</th>\n      <th>Probabilitas</th>\n    </tr>\n  </thead>\n  <tbody>\n    <tr>\n      <th>0</th>\n      <td>0.0</td>\n      <td>20.0</td>\n      <td>0.2</td>\n    </tr>\n    <tr>\n      <th>1</th>\n      <td>1.0</td>\n      <td>40.0</td>\n      <td>0.4</td>\n    </tr>\n    <tr>\n      <th>2</th>\n      <td>2.0</td>\n      <td>20.0</td>\n      <td>0.2</td>\n    </tr>\n    <tr>\n      <th>3</th>\n      <td>3.0</td>\n      <td>10.0</td>\n      <td>0.1</td>\n    </tr>\n    <tr>\n      <th>4</th>\n      <td>4.0</td>\n      <td>10.0</td>\n      <td>0.1</td>\n    </tr>\n  </tbody>\n</table>\n</div>"
     },
     "metadata": {},
     "execution_count": 4
    }
   ],
   "source": [
    "prob =[]\n",
    "sum_f=0\n",
    "for a in range(len(frekuensi)):\n",
    "    sum_f = frekuensi[a]/sigma_f\n",
    "    print(\"probabilitas minggu ke-\",a,\"=\",sum_f)\n",
    "    prob.append(sum_f)\n",
    "\n",
    "prob_d=np.array([prob])\n",
    "data = np.concatenate((data, prob_d.T),axis=1)\n",
    "pd.DataFrame(data, columns=[\"Minggu Ke\", \"Frekuensi\",\"Probabilitas\"])"
   ]
  },
  {
   "cell_type": "code",
   "execution_count": 5,
   "metadata": {},
   "outputs": [
    {
     "output_type": "stream",
     "name": "stdout",
     "text": [
      "probabilitas kumulatif minggu ke- 0 = 0.2\nprobabilitas kumulatif minggu ke- 1 = 0.6000000000000001\nprobabilitas kumulatif minggu ke- 2 = 0.8\nprobabilitas kumulatif minggu ke- 3 = 0.9\nprobabilitas kumulatif minggu ke- 4 = 1.0\n"
     ]
    },
    {
     "output_type": "execute_result",
     "data": {
      "text/plain": [
       "   Minggu Ke  Frekuensi  Probabilitas  Probabilitas Kumulatif\n",
       "0        0.0       20.0           0.2                     0.2\n",
       "1        1.0       40.0           0.4                     0.6\n",
       "2        2.0       20.0           0.2                     0.8\n",
       "3        3.0       10.0           0.1                     0.9\n",
       "4        4.0       10.0           0.1                     1.0"
      ],
      "text/html": "<div>\n<style scoped>\n    .dataframe tbody tr th:only-of-type {\n        vertical-align: middle;\n    }\n\n    .dataframe tbody tr th {\n        vertical-align: top;\n    }\n\n    .dataframe thead th {\n        text-align: right;\n    }\n</style>\n<table border=\"1\" class=\"dataframe\">\n  <thead>\n    <tr style=\"text-align: right;\">\n      <th></th>\n      <th>Minggu Ke</th>\n      <th>Frekuensi</th>\n      <th>Probabilitas</th>\n      <th>Probabilitas Kumulatif</th>\n    </tr>\n  </thead>\n  <tbody>\n    <tr>\n      <th>0</th>\n      <td>0.0</td>\n      <td>20.0</td>\n      <td>0.2</td>\n      <td>0.2</td>\n    </tr>\n    <tr>\n      <th>1</th>\n      <td>1.0</td>\n      <td>40.0</td>\n      <td>0.4</td>\n      <td>0.6</td>\n    </tr>\n    <tr>\n      <th>2</th>\n      <td>2.0</td>\n      <td>20.0</td>\n      <td>0.2</td>\n      <td>0.8</td>\n    </tr>\n    <tr>\n      <th>3</th>\n      <td>3.0</td>\n      <td>10.0</td>\n      <td>0.1</td>\n      <td>0.9</td>\n    </tr>\n    <tr>\n      <th>4</th>\n      <td>4.0</td>\n      <td>10.0</td>\n      <td>0.1</td>\n      <td>1.0</td>\n    </tr>\n  </tbody>\n</table>\n</div>"
     },
     "metadata": {},
     "execution_count": 5
    }
   ],
   "source": [
    "prob_k =[]\n",
    "sum_p=0\n",
    "for a in range(len(frekuensi)):\n",
    "    sum_p = sum_p + prob[a]\n",
    "    print(\"probabilitas kumulatif minggu ke-\",a,\"=\",sum_p)\n",
    "    prob_k.append(sum_p)\n",
    "    \n",
    "prob_kd=np.array([prob_k])\n",
    "data = np.concatenate((data, prob_kd.T),axis=1)\n",
    "pd.DataFrame(data, columns=[\"Minggu Ke\", \"Frekuensi\",\"Probabilitas\",\"Probabilitas Kumulatif\"])"
   ]
  },
  {
   "cell_type": "code",
   "execution_count": 6,
   "metadata": {},
   "outputs": [
    {
     "output_type": "stream",
     "name": "stdout",
     "text": [
      "Interval Minggu ke- 0  =  0 - 0.2\nInterval Minggu ke- 1  =  0.201 - 0.6000000000000001\nInterval Minggu ke- 2  =  0.6010000000000001 - 0.8\nInterval Minggu ke- 3  =  0.801 - 0.9\nInterval Minggu ke- 4  =  0.901 - 1.0\n"
     ]
    },
    {
     "output_type": "execute_result",
     "data": {
      "text/plain": [
       "   Minggu Ke  Frekuensi  Probabilitas  Probabilitas Kumulatif  \\\n",
       "0        0.0       20.0           0.2                     0.2   \n",
       "1        1.0       40.0           0.4                     0.6   \n",
       "2        2.0       20.0           0.2                     0.8   \n",
       "3        3.0       10.0           0.1                     0.9   \n",
       "4        4.0       10.0           0.1                     1.0   \n",
       "\n",
       "   Interval Batas Bawah  Interval Batas Atas  \n",
       "0                 0.000                  0.2  \n",
       "1                 0.201                  0.6  \n",
       "2                 0.601                  0.8  \n",
       "3                 0.801                  0.9  \n",
       "4                 0.901                  1.0  "
      ],
      "text/html": "<div>\n<style scoped>\n    .dataframe tbody tr th:only-of-type {\n        vertical-align: middle;\n    }\n\n    .dataframe tbody tr th {\n        vertical-align: top;\n    }\n\n    .dataframe thead th {\n        text-align: right;\n    }\n</style>\n<table border=\"1\" class=\"dataframe\">\n  <thead>\n    <tr style=\"text-align: right;\">\n      <th></th>\n      <th>Minggu Ke</th>\n      <th>Frekuensi</th>\n      <th>Probabilitas</th>\n      <th>Probabilitas Kumulatif</th>\n      <th>Interval Batas Bawah</th>\n      <th>Interval Batas Atas</th>\n    </tr>\n  </thead>\n  <tbody>\n    <tr>\n      <th>0</th>\n      <td>0.0</td>\n      <td>20.0</td>\n      <td>0.2</td>\n      <td>0.2</td>\n      <td>0.000</td>\n      <td>0.2</td>\n    </tr>\n    <tr>\n      <th>1</th>\n      <td>1.0</td>\n      <td>40.0</td>\n      <td>0.4</td>\n      <td>0.6</td>\n      <td>0.201</td>\n      <td>0.6</td>\n    </tr>\n    <tr>\n      <th>2</th>\n      <td>2.0</td>\n      <td>20.0</td>\n      <td>0.2</td>\n      <td>0.8</td>\n      <td>0.601</td>\n      <td>0.8</td>\n    </tr>\n    <tr>\n      <th>3</th>\n      <td>3.0</td>\n      <td>10.0</td>\n      <td>0.1</td>\n      <td>0.9</td>\n      <td>0.801</td>\n      <td>0.9</td>\n    </tr>\n    <tr>\n      <th>4</th>\n      <td>4.0</td>\n      <td>10.0</td>\n      <td>0.1</td>\n      <td>1.0</td>\n      <td>0.901</td>\n      <td>1.0</td>\n    </tr>\n  </tbody>\n</table>\n</div>"
     },
     "metadata": {},
     "execution_count": 6
    }
   ],
   "source": [
    "interval_min = []\n",
    "min_v=0\n",
    "for a in range(len(frekuensi)):\n",
    "    if(a==0):\n",
    "        interval_min.append(min_v)\n",
    "        print(\"Interval Minggu ke-\",a,\" = \",min_v,\"-\",prob_k[a])\n",
    "    else:\n",
    "        min_v = prob_k[a-1]+0.001\n",
    "        interval_min.append(min_v)\n",
    "        print(\"Interval Minggu ke-\",a,\" = \",min_v,\"-\",prob_k[a])\n",
    "        \n",
    "interval_mind=np.array([interval_min])\n",
    "data = np.concatenate((data, interval_mind.T),axis=1)\n",
    "interval_maxd=np.array([prob_k])\n",
    "data = np.concatenate((data, interval_maxd.T),axis=1)\n",
    "pd.DataFrame(data, columns=[\"Minggu Ke\", \"Frekuensi\",\"Probabilitas\",\"Probabilitas Kumulatif\",\"Interval Batas Bawah\",\"Interval Batas Atas\"])"
   ]
  },
  {
   "cell_type": "code",
   "execution_count": 7,
   "metadata": {},
   "outputs": [],
   "source": [
    "minggu_baru=101\n",
    "p_minggu = []\n",
    "angka_acak = []\n",
    "permintaan = []\n",
    "for a in range(16):\n",
    "    p_minggu.append(minggu_baru)\n",
    "    acak = random.random()\n",
    "    angka_acak.append(acak)\n",
    "    if(acak<0.2):\n",
    "        jenis = 0\n",
    "        permintaan.append(jenis)\n",
    "    elif(acak<0.6):\n",
    "        jenis = 1\n",
    "        permintaan.append(jenis)\n",
    "    elif(acak<0.8):\n",
    "        jenis = 2\n",
    "        permintaan.append(jenis)\n",
    "    elif(acak<0.9):\n",
    "        jenis = 3\n",
    "        permintaan.append(jenis)\n",
    "    elif(acak<=1):\n",
    "        jenis = 4\n",
    "        permintaan.append(jenis)\n",
    "    minggu_baru+=1\n"
   ]
  },
  {
   "cell_type": "code",
   "execution_count": 8,
   "metadata": {},
   "outputs": [
    {
     "output_type": "stream",
     "name": "stdout",
     "text": [
      "Minggu Ke- | Angka Acak | Permintaan\n101 | 0.7293641215402556 | 2\n102 | 0.4652611702574265 | 1\n103 | 0.45320228421260034 | 1\n104 | 0.28228889453328765 | 1\n105 | 0.721819264757781 | 2\n106 | 0.5226361369408639 | 1\n107 | 0.48871157522435515 | 1\n108 | 0.6312323910642494 | 2\n109 | 0.8762480260832467 | 3\n110 | 0.18303178915897667 | 0\n111 | 0.7471375406697318 | 2\n112 | 0.02462210030248546 | 0\n113 | 0.2277305059940078 | 1\n114 | 0.7469677915439514 | 2\n115 | 0.10979037348323084 | 0\n116 | 0.41954295852457946 | 1\n"
     ]
    }
   ],
   "source": [
    "print(\"Minggu Ke-\",\"|\",\"Angka Acak\",\"|\",\"Permintaan\")\n",
    "for a in range(16):\n",
    "    print(p_minggu[a],\"|\",angka_acak[a],\"|\",permintaan[a])"
   ]
  },
  {
   "cell_type": "code",
   "execution_count": null,
   "metadata": {},
   "outputs": [],
   "source": []
  }
 ],
 "metadata": {
  "kernelspec": {
   "name": "python3",
   "display_name": "Python 3.8.5 32-bit",
   "metadata": {
    "interpreter": {
     "hash": "7a542ca580817fc4dd55327026e074e2fa0cd470fc5dee9350c2d8b13822db8d"
    }
   }
  },
  "language_info": {
   "codemirror_mode": {
    "name": "ipython",
    "version": 3
   },
   "file_extension": ".py",
   "mimetype": "text/x-python",
   "name": "python",
   "nbconvert_exporter": "python",
   "pygments_lexer": "ipython3",
   "version": "3.8.5-final"
  }
 },
 "nbformat": 4,
 "nbformat_minor": 4
}